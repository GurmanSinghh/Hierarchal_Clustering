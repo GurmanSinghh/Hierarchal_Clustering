{
 "cells": [
  {
   "cell_type": "code",
   "execution_count": 1,
   "id": "07d3a2b7",
   "metadata": {},
   "outputs": [
    {
     "name": "stdout",
     "output_type": "stream",
     "text": [
      "Similarity Measure: euclidean\n",
      "Optimal Number of Clusters: 2\n",
      "Classifier Performance on Clustered Data (Mean Score): 0.9875\n",
      "Similarity Measure: l2\n",
      "Optimal Number of Clusters: 2\n",
      "Classifier Performance on Clustered Data (Mean Score): 0.9916666666666666\n",
      "Similarity Measure: cosine\n",
      "Optimal Number of Clusters: 2\n",
      "Classifier Performance on Clustered Data (Mean Score): 0.9958333333333332\n"
     ]
    }
   ],
   "source": [
    "import numpy as np\n",
    "from sklearn.datasets import fetch_olivetti_faces\n",
    "from sklearn.model_selection import train_test_split, cross_val_score\n",
    "from sklearn.svm import SVC\n",
    "from sklearn.cluster import AgglomerativeClustering\n",
    "from sklearn.metrics import silhouette_score\n",
    "from sklearn.preprocessing import StandardScaler\n",
    "import warnings\n",
    "\n",
    "# Suppress warnings\n",
    "warnings.filterwarnings(\"ignore\", category=UserWarning)\n",
    "\n",
    "# Step 1: Load the Olivetti Faces Dataset\n",
    "data = fetch_olivetti_faces(shuffle=True, random_state=42)\n",
    "X, y = data.data, data.target\n",
    "\n",
    "# Step 2: Split Data into Training, Validation, and Test Sets\n",
    "X_train, X_temp, y_train, y_temp = train_test_split(X, y, test_size=0.4, stratify=y, random_state=42)\n",
    "X_val, X_test, y_val, y_test = train_test_split(X_temp, y_temp, test_size=0.5, stratify=y_temp, random_state=42)\n",
    "\n",
    "# Step 3: Train a Classifier with K-Fold Cross Validation\n",
    "clf = SVC(kernel='linear')\n",
    "K = 5  # Number of folds for cross-validation\n",
    "scores = cross_val_score(clf, X_train, y_train, cv=K)\n",
    "\n",
    "# Step 4: Hierarchical Clustering with Different Similarity Measures\n",
    "max_clusters = 40\n",
    "similarity_measures = ['euclidean', 'l2', 'cosine']\n",
    "\n",
    "for similarity_measure in similarity_measures:\n",
    "    linkage_method = 'ward' if similarity_measure == 'euclidean' else 'average'\n",
    "    \n",
    "    clustering = AgglomerativeClustering(n_clusters=max_clusters, linkage=linkage_method, metric=similarity_measure)\n",
    "    cluster_assignments = clustering.fit_predict(X_train)\n",
    "\n",
    "    # Step 5: Choose Number of Clusters with Silhouette Score\n",
    "    silhouette_scores = [4]\n",
    "    for num_clusters in range(2, max_clusters):\n",
    "        clustering = AgglomerativeClustering(n_clusters=num_clusters, linkage=linkage_method, metric=similarity_measure)\n",
    "        cluster_assignments = clustering.fit_predict(X_train)\n",
    "        silhouette_scores.append(silhouette_score(X_train, cluster_assignments))\n",
    "\n",
    "    optimal_num_clusters = np.argmax(silhouette_scores) + 2  # Adding 2 to account for the range starting from 2\n",
    "\n",
    "    # Step 6: Train a Classifier on Clustered Data\n",
    "    cluster_labels = AgglomerativeClustering(n_clusters=optimal_num_clusters, linkage=linkage_method, metric=similarity_measure).fit_predict(X_train)\n",
    "    scaler = StandardScaler()\n",
    "    X_train_scaled = scaler.fit_transform(X_train)\n",
    "\n",
    "    clf = SVC(kernel='linear')\n",
    "    cluster_scores = cross_val_score(clf, X_train_scaled, cluster_labels, cv=K)\n",
    "\n",
    "    # Step 7: Discuss Discrepancies\n",
    "    print(f'Similarity Measure: {similarity_measure}')\n",
    "    print(f'Optimal Number of Clusters: {optimal_num_clusters}')\n",
    "    print(f'Classifier Performance on Clustered Data (Mean Score): {np.mean(cluster_scores)}')\n"
   ]
  },
  {
   "cell_type": "code",
   "execution_count": 12,
   "id": "540f8f80",
   "metadata": {},
   "outputs": [
    {
     "ename": "SyntaxError",
     "evalue": "invalid syntax (813007624.py, line 1)",
     "output_type": "error",
     "traceback": [
      "\u001b[0;36m  Cell \u001b[0;32mIn[12], line 1\u001b[0;36m\u001b[0m\n\u001b[0;31m    import numpy np\u001b[0m\n\u001b[0m                 ^\u001b[0m\n\u001b[0;31mSyntaxError\u001b[0m\u001b[0;31m:\u001b[0m invalid syntax\n"
     ]
    }
   ],
   "source": []
  },
  {
   "cell_type": "code",
   "execution_count": null,
   "id": "18584e6f",
   "metadata": {},
   "outputs": [],
   "source": []
  }
 ],
 "metadata": {
  "kernelspec": {
   "display_name": "Python 3 (ipykernel)",
   "language": "python",
   "name": "python3"
  },
  "language_info": {
   "codemirror_mode": {
    "name": "ipython",
    "version": 3
   },
   "file_extension": ".py",
   "mimetype": "text/x-python",
   "name": "python",
   "nbconvert_exporter": "python",
   "pygments_lexer": "ipython3",
   "version": "3.10.9"
  }
 },
 "nbformat": 4,
 "nbformat_minor": 5
}
